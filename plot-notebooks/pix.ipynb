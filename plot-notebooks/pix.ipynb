{
 "cells": [
  {
   "cell_type": "code",
   "execution_count": null,
   "metadata": {},
   "outputs": [],
   "source": [
    "from astropy.io import fits\n",
    "import numpy as np\n",
    "import matplotlib.pyplot as plt"
   ]
  },
  {
   "cell_type": "code",
   "execution_count": null,
   "metadata": {},
   "outputs": [],
   "source": [
    "fit_stars_path = '/Users/mschmitz/jbonnin/Data/CFIS_PSF/CCD-2_dataset/train-star_selection-0000000-2.fits'\n",
    "test_stars_path = '/Users/mschmitz/jbonnin/Data/CFIS_PSF/CCD-2_dataset/test-star_selection-0000000-2.fits'\n",
    "PSFs_path = '/Users/mschmitz/jbonnin/Data/rca_runs/w3/shapepipe_run_2019-12-05_11-18-01/rca_runner/output/test_psf-0000000-2.npy'\n",
    "\n",
    "fit_starcat = fits.open(fit_stars_path)\n",
    "\n",
    "test_starcat = fits.open(test_stars_path)\n",
    "test_stars = test_starcat[2].data['VIGNET']\n",
    "\n",
    "PSFs = np.load(PSFs_path)\n",
    "\n",
    "x_fit = fit_starcat[2].data['XWIN_IMAGE']\n",
    "y_fit = fit_starcat[2].data['YWIN_IMAGE']\n",
    "\n",
    "x_test = starcat[2].data['XWIN_IMAGE']\n",
    "y_test = starcat[2].data['YWIN_IMAGE']"
   ]
  },
  {
   "cell_type": "code",
   "execution_count": null,
   "metadata": {},
   "outputs": [],
   "source": [
    "res = np.abs(test_stars - PSFs)\n",
    "ccd_res = np.zeros((10*res.shape[1], 5*res.shape[2]))\n",
    "\n",
    "for k in range(50):\n",
    "    ccd_res[res.shape[1]*(9-k%10):res.shape[1]*(10-k%10),res.shape[2]*(k//10):res.shape[2]*(k//10+1)] = res[k]\n",
    "\n",
    "plt.figure(figsize = (30,30))\n",
    "plt.imshow(ccd_res, cmap='gist_stern')\n",
    "plt.axis('off')\n",
    "\n",
    "plt.scatter(x_fit / 2048 * 255, 509 - y_fit / 4612 * 510, marker = '*', c = 'yellow')\n",
    "\n",
    "plt.show()"
   ]
  },
  {
   "cell_type": "code",
   "execution_count": null,
   "metadata": {},
   "outputs": [],
   "source": []
  }
 ],
 "metadata": {
  "kernelspec": {
   "display_name": "Python 3",
   "language": "python",
   "name": "python3"
  },
  "language_info": {
   "codemirror_mode": {
    "name": "ipython",
    "version": 3
   },
   "file_extension": ".py",
   "mimetype": "text/x-python",
   "name": "python",
   "nbconvert_exporter": "python",
   "pygments_lexer": "ipython3",
   "version": "3.6.7"
  }
 },
 "nbformat": 4,
 "nbformat_minor": 2
}
