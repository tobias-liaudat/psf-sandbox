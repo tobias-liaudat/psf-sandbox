{
 "cells": [
  {
   "cell_type": "markdown",
   "metadata": {},
   "source": [
    "# Correcting sextractor test catalogs\n",
    "\n",
    "We need to construct big images in order to launch sextractor over it and use PSFEx as a benchmark tool.\n",
    "\n",
    "When doing so, the images extracted by sextractor are transposed and is hard to reverse as we should dig into Sextractor code. The easy way to solve this is to transpose the star images used for testing the model.\n",
    "\n",
    "This script is about that."
   ]
  },
  {
   "cell_type": "code",
   "execution_count": 50,
   "metadata": {},
   "outputs": [],
   "source": [
    "import numpy as np\n",
    "import scipy.stats as sst\n",
    "import matplotlib.pyplot as plt\n",
    "import progressbar as pb\n",
    "import os\n",
    "import glob\n",
    "import shutil\n",
    "\n",
    "from astropy.io import fits\n",
    "from shapepipe.pipeline import file_io"
   ]
  },
  {
   "cell_type": "code",
   "execution_count": 51,
   "metadata": {},
   "outputs": [],
   "source": [
    "def create_fits(fits_path, data_dict, fits_ex):\n",
    "    \"\"\"\n",
    "    Create a .fits file\n",
    "    INPUTS:\n",
    "        fits_path: path to the future .fits file\n",
    "        data_dict: dictionnary where data is stored (usually {'VIGNET': ..., 'XWIN_IMAGE': ..., ...})\n",
    "        fits_ex: path to an existing .fits file used as a model\n",
    "    \"\"\"\n",
    "    fits_file = file_io.FITSCatalog(fits_path, open_mode = file_io.BaseCatalog.OpenMode.ReadWrite, SEx_catalog=True)\n",
    "    fits_file.save_as_fits(data_dict, sex_cat_path = basic_fits)\n",
    "    "
   ]
  },
  {
   "cell_type": "code",
   "execution_count": 52,
   "metadata": {},
   "outputs": [],
   "source": [
    "# Location of the file containing raw simulated stars\n",
    "CCD_number = 38\n",
    "old_data_path = '/Users/tliaudat/Documents/PhD/codes/venv_p3/JB-data/CCD-38_sexdataset/'\n",
    "\n",
    "# Directory used to store generated catalogs\n",
    "# output_path = '/Users/mschmitz/jbonnin/Data/CFIS_PSF/CCD-{}_newsexdataset'.format(CCD_number)\n",
    "new_data_path = '/Users/tliaudat/Documents/PhD/codes/venv_p3/JB-data/TL_sexcatalog/CCD-{}_newsexdataset/'.format(CCD_number)\n",
    "\n",
    "# Path of a model file for creating .fits catalogs\n",
    "basic_fits = '/Users/tliaudat/Documents/PhD/codes/venv_p3/JB-data/other-JB-data/all_w3_star_cat/star_selection-2079613-0.fits'\n",
    "\n",
    "dataset_pattern = 'test-star_selection-*-38.fits'\n"
   ]
  },
  {
   "cell_type": "code",
   "execution_count": 53,
   "metadata": {},
   "outputs": [
    {
     "name": "stdout",
     "output_type": "stream",
     "text": [
      "\n",
      "Old Dataset path [0]: \n",
      "/Users/tliaudat/Documents/PhD/codes/venv_p3/JB-data/CCD-38_sexdataset/test-star_selection-0000000-38.fits\n"
     ]
    }
   ],
   "source": [
    "# Load the data\n",
    "old_dataset_paths = glob.glob(old_data_path + dataset_pattern)\n",
    "\n",
    "old_dataset_paths.sort()\n",
    "\n",
    "k = 0 # Catalog number\n",
    "print('\\nOld Dataset path [%d]: \\n'%(k) + old_dataset_paths[k])\n"
   ]
  },
  {
   "cell_type": "code",
   "execution_count": 54,
   "metadata": {
    "scrolled": true
   },
   "outputs": [],
   "source": [
    "# Extract the names of the files\n",
    "data_file_names = []\n",
    "\n",
    "for old_path in old_dataset_paths:\n",
    "    data_name = old_path.split('/',20)[-1]\n",
    "    #data_file_names.append(data_name)\n",
    "    \n",
    "    model = fits.open(old_path)\n",
    "    stars = model[2].data['VIGNET']\n",
    "    for it in range(stars.shape[0]):\n",
    "        stars[it,:,:] = stars[it,:,:].T\n",
    "    \n",
    "    test_dict = {'VIGNET': stars, 'XWIN_IMAGE': model[2].data['XWIN_IMAGE'], \n",
    "                 'YWIN_IMAGE': model[2].data['YWIN_IMAGE'], 'NUMBER': model[2].data['NUMBER']}\n",
    "\n",
    "    fits_path = new_data_path + data_name\n",
    "    create_fits(fits_path, test_dict, basic_fits)\n",
    "    \n",
    "    \n",
    "# old_dataset_paths[0].split('/', 20)[-1]"
   ]
  },
  {
   "cell_type": "code",
   "execution_count": null,
   "metadata": {
    "scrolled": false
   },
   "outputs": [],
   "source": []
  },
  {
   "cell_type": "code",
   "execution_count": null,
   "metadata": {},
   "outputs": [],
   "source": [
    "\n"
   ]
  },
  {
   "cell_type": "code",
   "execution_count": null,
   "metadata": {},
   "outputs": [],
   "source": []
  },
  {
   "cell_type": "code",
   "execution_count": null,
   "metadata": {},
   "outputs": [],
   "source": []
  },
  {
   "cell_type": "code",
   "execution_count": null,
   "metadata": {},
   "outputs": [],
   "source": []
  },
  {
   "cell_type": "code",
   "execution_count": null,
   "metadata": {},
   "outputs": [],
   "source": []
  },
  {
   "cell_type": "code",
   "execution_count": null,
   "metadata": {},
   "outputs": [],
   "source": []
  },
  {
   "cell_type": "code",
   "execution_count": null,
   "metadata": {},
   "outputs": [],
   "source": []
  }
 ],
 "metadata": {
  "kernelspec": {
   "display_name": "Python 3",
   "language": "python",
   "name": "python3"
  },
  "language_info": {
   "codemirror_mode": {
    "name": "ipython",
    "version": 3
   },
   "file_extension": ".py",
   "mimetype": "text/x-python",
   "name": "python",
   "nbconvert_exporter": "python",
   "pygments_lexer": "ipython3",
   "version": "3.6.7"
  }
 },
 "nbformat": 4,
 "nbformat_minor": 2
}
