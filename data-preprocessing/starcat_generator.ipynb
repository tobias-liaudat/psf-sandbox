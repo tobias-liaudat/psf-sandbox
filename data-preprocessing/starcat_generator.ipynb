{
 "cells": [
  {
   "cell_type": "markdown",
   "metadata": {},
   "source": [
    "# Generation of random catalogs from simulation\n",
    "\n",
    "The idea is to create several catalogs from a whole set of simulated stars in one CCD (Axel's simulations).\n",
    "\n",
    "Each catalog should contain:\n",
    "- 50 test stars (without noise, non-shifted and one at each CCD-pixel)\n",
    "- 50 stars to fit the model (with noise, shifted and randomly chosen)"
   ]
  },
  {
   "cell_type": "markdown",
   "metadata": {},
   "source": [
    "### Imports"
   ]
  },
  {
   "cell_type": "code",
   "execution_count": 27,
   "metadata": {},
   "outputs": [],
   "source": [
    "import numpy as np\n",
    "import scipy.stats as sst\n",
    "import matplotlib.pyplot as plt\n",
    "import progressbar as pb\n",
    "import copy\n",
    "import sep\n",
    "import os\n",
    "\n",
    "from astropy.io import fits\n",
    "from shapepipe.pipeline import file_io"
   ]
  },
  {
   "cell_type": "markdown",
   "metadata": {},
   "source": [
    "### User parameters"
   ]
  },
  {
   "cell_type": "code",
   "execution_count": 28,
   "metadata": {},
   "outputs": [],
   "source": [
    "# Location of the file containing raw simulated stars\n",
    "CCD_number = 38\n",
    "simu_path = '/Users/mschmitz/jbonnin/Data/CFIS_PSF'\n",
    "\n",
    "# Directory used to store generated catalogs\n",
    "output_path = '/Users/mschmitz/jbonnin/Data/CFIS_PSF/CCD-{}_sexdataset'.format(CCD_number)\n",
    "\n",
    "# Path of a model file for creating .fits catalogs\n",
    "basic_fits = '/Users/mschmitz/jbonnin/Data/all_w3_star_cat/star_selection-2079613-0.fits'\n",
    "\n",
    "sexmode = True"
   ]
  },
  {
   "cell_type": "markdown",
   "metadata": {},
   "source": [
    "### Pre-defined functions"
   ]
  },
  {
   "cell_type": "code",
   "execution_count": 29,
   "metadata": {},
   "outputs": [],
   "source": [
    "def create_fits(fits_path, data_dict, fits_ex = basic_fits):\n",
    "    \"\"\"\n",
    "    Create a .fits file\n",
    "    INPUTS:\n",
    "        fits_path: path to the future .fits file\n",
    "        data_dict: dictionnary where data is stored (usually {'VIGNET': ..., 'XWIN_IMAGE': ..., ...})\n",
    "        fits_ex: path to an existing .fits file used as a model\n",
    "    \"\"\"\n",
    "    fits_file = file_io.FITSCatalog(fits_path, open_mode = file_io.BaseCatalog.OpenMode.ReadWrite, SEx_catalog=True)\n",
    "    fits_file.save_as_fits(data_dict, sex_cat_path = basic_fits)\n",
    "\n",
    "\n",
    "def add_noise_std(images, sigma, seed = 0):\n",
    "    N = images.shape[0]\n",
    "    x_size = images.shape[1]\n",
    "    y_size = images.shape[2]\n",
    "\n",
    "    np.random.seed(seed)\n",
    "    noise = np.array([sst.norm.rvs(scale = sigma, size = x_size * y_size) for k in range(N)])\n",
    "    noisy_images = images + noise.reshape(N, x_size, y_size)\n",
    "\n",
    "    return noisy_images\n",
    "\n",
    "\n",
    "def run_sep(vign, detect_thresh=1.5):\n",
    "    \"\"\"\n",
    "    \"\"\"\n",
    "    \n",
    "    vign_tmp = vign.byteswap().newbyteorder()\n",
    "    \n",
    "    # Get background \n",
    "    bkg = sep.Background(vign_tmp)\n",
    "    \n",
    "    # Detection\n",
    "    obj = sep.extract(vign_tmp, detect_thresh, err=bkg.globalrms)\n",
    "    \n",
    "    if len(obj) == 0:\n",
    "        raise ValueError(\"No object detected\")\n",
    "    elif len(obj) > 1:\n",
    "        raise ValueError(\"More than one object detected\")\n",
    "    \n",
    "    # Flux estimation\n",
    "    kronrad, krflag = sep.kron_radius(vign_tmp, obj['x'], obj['y'], obj['a'], obj['b'], obj['theta'], 6.0)\n",
    "    flux, fluxerr, flag = sep.sum_ellipse(vign_tmp, obj['x'], obj['y'], obj['a'], obj['b'], obj['theta'], 2.5*kronrad,subpix=1,err=bkg.globalrms)\n",
    "    r, flag = sep.flux_radius(vign_tmp, obj['x'], obj['y'], 6.*obj['a'], 0.5,normflux=flux, subpix=5)\n",
    "    \n",
    "    output = {'x': obj['x'][0],\n",
    "              'y': obj['y'][0],\n",
    "              'a': obj['a'][0],\n",
    "              'b': obj['b'][0],\n",
    "              'elongation': obj['a'][0]/obj['b'][0],\n",
    "              'flux_auto': flux[0],\n",
    "              'fluxerr_auto': fluxerr[0],\n",
    "              'flux_radius': r[0]}\n",
    "    \n",
    "    return output\n",
    "\n",
    "def sexparam(stars):\n",
    "    n = stars.shape[0]\n",
    "    sexparams = {'x': np.zeros((n)), 'y': np.zeros((n)), 'a': np.zeros((n)), 'b': np.zeros((n)),\n",
    "                 'elongation': np.zeros((n)), 'flux_auto': np.zeros((n)), 'fluxerr_auto': np.zeros((n)),\n",
    "                 'flux_radius': np.zeros((n))}\n",
    "    print('Processing stars to recover SExtractor parameters ...')\n",
    "    for k in pb.progressbar(range(n)):\n",
    "        params = run_sep(stars[k].byteswap().newbyteorder())\n",
    "        sexparams['x'][k] = params['x']\n",
    "        sexparams['y'][k] = params['y']\n",
    "        sexparams['a'][k] = params['a']\n",
    "        sexparams['b'][k] = params['b']\n",
    "        sexparams['elongation'][k] = params['elongation']\n",
    "        sexparams['flux_auto'][k] = params['flux_auto']\n",
    "        sexparams['fluxerr_auto'][k] = params['fluxerr_auto']\n",
    "        sexparams['flux_radius'][k] = params['flux_radius']\n",
    "        \n",
    "    print('Done')\n",
    "    \n",
    "    return sexparams"
   ]
  },
  {
   "cell_type": "markdown",
   "metadata": {},
   "source": [
    "### Load the data"
   ]
  },
  {
   "cell_type": "code",
   "execution_count": 30,
   "metadata": {},
   "outputs": [
    {
     "name": "stdout",
     "output_type": "stream",
     "text": [
      "dict_keys(['vignet', 'e1_true', 'e2_true', 'fwhm', 'CCD_n', 'X', 'Y'])\n",
      "24823 stars in CCD 38\n"
     ]
    }
   ],
   "source": [
    "simu = np.load('{}/psf_ccd_{}.npy'.format(simu_path, CCD_number), allow_pickle = True).item()\n",
    "print(simu.keys())\n",
    "\n",
    "N_stars = len(simu['CCD_n'])\n",
    "print('{} stars in CCD {}'.format(N_stars, CCD_number))"
   ]
  },
  {
   "cell_type": "code",
   "execution_count": 31,
   "metadata": {},
   "outputs": [
    {
     "name": "stdout",
     "output_type": "stream",
     "text": [
      "Width of a CCD_pixel: 409\n",
      "Height of a CCD_pixel: 461\n"
     ]
    }
   ],
   "source": [
    "# Identifying CCD-pixels\n",
    "\n",
    "X_px = np.sort(list(set(simu['X'])))\n",
    "Y_px = np.sort(list(set(simu['Y'])))\n",
    "\n",
    "x_gap = int(X_px[1] - X_px[0])\n",
    "print('Width of a CCD_pixel: {}'.format(x_gap))\n",
    "\n",
    "y_gap = int(Y_px[1] - Y_px[0])\n",
    "print('Height of a CCD_pixel: {}'.format(y_gap))"
   ]
  },
  {
   "cell_type": "code",
   "execution_count": 32,
   "metadata": {},
   "outputs": [
    {
     "name": "stdout",
     "output_type": "stream",
     "text": [
      "[[470 521 526 470 480]\n",
      " [526 489 529 517 480]\n",
      " [473 501 458 516 500]\n",
      " [505 509 457 521 491]\n",
      " [518 502 495 497 496]\n",
      " [462 489 484 495 523]\n",
      " [453 473 466 505 511]\n",
      " [526 517 469 483 528]\n",
      " [469 475 490 515 511]\n",
      " [542 505 477 514 494]]\n",
      "Minimum number of stars per CCD-pixel: 453\n"
     ]
    }
   ],
   "source": [
    "# Recovering index of stars present in each CCD-pixel\n",
    "\n",
    "px_pos = [[[] for y in Y_px] for x in X_px]\n",
    "\n",
    "for k in range(N_stars):\n",
    "    for i in range(len(X_px)):\n",
    "        for j in range(len(Y_px)):\n",
    "            if (simu['X'][k] == X_px[i]) and (simu['Y'][k] == Y_px[j]):\n",
    "                px_pos[i][j].append(k)\n",
    "\n",
    "N_stars_pCCD = np.array([[len(stars) for stars in px_col] for px_col in px_pos])\n",
    "print(np.array(N_stars_pCCD).T)\n",
    "\n",
    "min_px = np.min(N_stars_pCCD)\n",
    "print('Minimum number of stars per CCD-pixel: {}'.format(min_px))"
   ]
  },
  {
   "cell_type": "markdown",
   "metadata": {},
   "source": [
    "### Select stars"
   ]
  },
  {
   "cell_type": "code",
   "execution_count": 33,
   "metadata": {},
   "outputs": [],
   "source": [
    "N_catalogs = min_px // 2\n",
    "\n",
    "flat_idx = [idx for col in px_pos for idx in col]\n",
    "slices_idx = [list(s) for s in zip(*flat_idx)]\n",
    "\n",
    "test_slices_idx = slices_idx[:N_catalogs]\n",
    "train_slices_idx = slices_idx[N_catalogs:-1]\n",
    "\n",
    "train_idx = np.array(train_slices_idx).flatten()"
   ]
  },
  {
   "cell_type": "markdown",
   "metadata": {},
   "source": [
    "### Build test catalogs"
   ]
  },
  {
   "cell_type": "code",
   "execution_count": 42,
   "metadata": {
    "scrolled": true
   },
   "outputs": [
    {
     "name": "stderr",
     "output_type": "stream",
     "text": [
      "  0% (1 of 226) |                        | Elapsed Time: 0:00:00 ETA:   0:00:36"
     ]
    },
    {
     "name": "stdout",
     "output_type": "stream",
     "text": [
      "Building test stars catalogs ...\n"
     ]
    },
    {
     "name": "stderr",
     "output_type": "stream",
     "text": [
      "100% (226 of 226) |######################| Elapsed Time: 0:00:07 Time:  0:00:07\n"
     ]
    },
    {
     "name": "stdout",
     "output_type": "stream",
     "text": [
      "Done\n"
     ]
    }
   ],
   "source": [
    "test_dicts = [{'VIGNET': simu['vignet'][s], 'XWIN_IMAGE': simu['X'][s], 'YWIN_IMAGE': simu['Y'][s], 'NUMBER': np.arange(1, len(s)+1)} for s in slices_idx[:N_catalogs]]\n",
    "\n",
    "if os.path.isdir(output_path):\n",
    "    os.system('rm ' + output_path + '/test-star_selection*')\n",
    "else:\n",
    "    os.system('mkdir ' + output_path)\n",
    "print('Building test stars catalogs ...')\n",
    "for n in pb.progressbar(range(N_catalogs)):\n",
    "    create_fits('{}/test-star_selection-{:07d}-{}.fits'.format(output_path, n, CCD_number), test_dicts[n])\n",
    "print('Done')"
   ]
  },
  {
   "cell_type": "markdown",
   "metadata": {},
   "source": [
    "### Shift train stars"
   ]
  },
  {
   "cell_type": "code",
   "execution_count": 35,
   "metadata": {},
   "outputs": [],
   "source": [
    "np.random.seed(0)\n",
    "x_shifts = np.random.uniform(- x_gap / 2, x_gap / 2, len(train_idx))\n",
    "y_shifts = np.random.uniform(- y_gap / 2, y_gap / 2, len(train_idx))\n",
    "\n",
    "simu_s = copy.deepcopy(simu)\n",
    "\n",
    "simu_s['X'][train_idx] = simu['X'][train_idx] + x_shifts\n",
    "simu_s['Y'][train_idx] = simu['Y'][train_idx] + y_shifts"
   ]
  },
  {
   "cell_type": "markdown",
   "metadata": {},
   "source": [
    "### Add noise"
   ]
  },
  {
   "cell_type": "code",
   "execution_count": 36,
   "metadata": {
    "scrolled": true
   },
   "outputs": [],
   "source": [
    "sig_noise = 1e-3\n",
    "\n",
    "simu_sn = copy.deepcopy(simu_s)\n",
    "simu_sn['vignet'][train_idx] = add_noise_std(simu['vignet'][train_idx], sig_noise)"
   ]
  },
  {
   "cell_type": "markdown",
   "metadata": {},
   "source": [
    "### Select train stars"
   ]
  },
  {
   "cell_type": "code",
   "execution_count": 37,
   "metadata": {},
   "outputs": [],
   "source": [
    "np.random.seed(0)\n",
    "rand_train_idx = np.copy(train_idx)\n",
    "np.random.shuffle(rand_train_idx)\n",
    "train_selections = [rand_train_idx[(50 * n):(50 * (n + 1))] for n in range(N_catalogs)]"
   ]
  },
  {
   "cell_type": "markdown",
   "metadata": {},
   "source": [
    "### Build train catalogs"
   ]
  },
  {
   "cell_type": "code",
   "execution_count": 38,
   "metadata": {
    "scrolled": true
   },
   "outputs": [
    {
     "name": "stderr",
     "output_type": "stream",
     "text": [
      "  0% (98 of 24823) |                     | Elapsed Time: 0:00:00 ETA:   0:00:50"
     ]
    },
    {
     "name": "stdout",
     "output_type": "stream",
     "text": [
      "Processing stars to recover SExtractor parameters ...\n"
     ]
    },
    {
     "name": "stderr",
     "output_type": "stream",
     "text": [
      "100% (24823 of 24823) |##################| Elapsed Time: 0:00:43 Time:  0:00:43\n",
      "N/A% (0 of 226) |                        | Elapsed Time: 0:00:00 ETA:  --:--:--"
     ]
    },
    {
     "name": "stdout",
     "output_type": "stream",
     "text": [
      "Done\n",
      "Building train stars catalogs ...\n"
     ]
    },
    {
     "name": "stderr",
     "output_type": "stream",
     "text": [
      "100% (226 of 226) |######################| Elapsed Time: 0:00:09 Time:  0:00:09\n"
     ]
    },
    {
     "name": "stdout",
     "output_type": "stream",
     "text": [
      "Done\n"
     ]
    }
   ],
   "source": [
    "if sexmode:\n",
    "    sexparams = sexparam(simu_sn['vignet'])\n",
    "    train_dicts = [{'VIGNET': simu_sn['vignet'][s].astype('float32'), 'XWIN_IMAGE': simu_sn['X'][s], 'YWIN_IMAGE': simu_sn['Y'][s],\n",
    "                    'FLUX_RADIUS': sexparams['flux_radius'][s].astype('float32'), 'SNR_WIN': np.sqrt(np.sum(simu['vignet'][s] ** 2, axis = (1,2))) / sig_noise,\n",
    "                    'FLUX_AUTO': sexparams['flux_auto'][s].astype('float32'), 'FLUXERR_AUTO': sexparams['fluxerr_auto'][s].astype('float32'),\n",
    "                    'ELONGATION': sexparams['elongation'][s].astype('float32'), 'FLAGS': np.zeros((len(s)), dtype = 'int16'), \n",
    "                    'NUMBER': np.arange(1,len(s)+1, dtype = 'int32')} for s in train_selections]\n",
    "else:\n",
    "    train_dicts = [{'VIGNET': simu_sn['vignet'][s], 'XWIN_IMAGE': simu_sn['X'][s], 'YWIN_IMAGE': simu_sn['Y'][s]} for s in train_selections]\n",
    "\n",
    "# 0.186    \n",
    "    \n",
    "if os.path.isdir(output_path):\n",
    "    os.system('rm ' + output_path + '/train-star_selection*')\n",
    "else:\n",
    "    os.system('mkdir ' + output_path)\n",
    "print('Building train stars catalogs ...')\n",
    "for n in pb.progressbar(range(N_catalogs)):\n",
    "    create_fits('{}/train-star_selection-{:07d}-{}.fits'.format(output_path, n, CCD_number), train_dicts[n])\n",
    "print('Done')"
   ]
  },
  {
   "cell_type": "code",
   "execution_count": null,
   "metadata": {},
   "outputs": [],
   "source": []
  }
 ],
 "metadata": {
  "kernelspec": {
   "display_name": "Python 3",
   "language": "python",
   "name": "python3"
  },
  "language_info": {
   "codemirror_mode": {
    "name": "ipython",
    "version": 3
   },
   "file_extension": ".py",
   "mimetype": "text/x-python",
   "name": "python",
   "nbconvert_exporter": "python",
   "pygments_lexer": "ipython3",
   "version": "3.6.7"
  }
 },
 "nbformat": 4,
 "nbformat_minor": 2
}
