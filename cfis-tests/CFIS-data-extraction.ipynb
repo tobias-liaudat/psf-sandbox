{
 "cells": [
  {
   "cell_type": "markdown",
   "metadata": {},
   "source": [
    "# Extract a subset of CFIS data\n",
    "\n",
    "For now, the idea is to extract one CCD from all the catalogs."
   ]
  },
  {
   "cell_type": "code",
   "execution_count": 1,
   "metadata": {},
   "outputs": [],
   "source": [
    "%matplotlib notebook\n",
    "import sys\n",
    "import os\n",
    "sys.path.append('../../')\n",
    "import numpy as np\n",
    "import matplotlib.pyplot as plt\n",
    "import matplotlib as mpl\n",
    "from matplotlib.colors import ListedColormap, LinearSegmentedColormap\n",
    "from mpl_toolkits.mplot3d import Axes3D\n",
    "from astropy.io import fits\n",
    "from ShapePipe.shapepipe.pipeline import file_io\n",
    "import glob\n",
    "import shutil"
   ]
  },
  {
   "cell_type": "markdown",
   "metadata": {},
   "source": [
    "## Extract all the stars of one CCD"
   ]
  },
  {
   "cell_type": "code",
   "execution_count": 2,
   "metadata": {},
   "outputs": [],
   "source": [
    "# Parameters\n",
    "CCDn = 38\n"
   ]
  },
  {
   "cell_type": "code",
   "execution_count": 3,
   "metadata": {},
   "outputs": [],
   "source": [
    "# Import the fits file\n",
    "path = '/Users/tliaudat/Documents/PhD/codes/venv_p3/JB-data/other-JB-data/all_w3_star_cat/'\n",
    "file_name = 'star_selection-2079613-0'\n",
    "ext = '.fits'\n",
    "\n",
    "# Extract all the files from the chose CCD\n",
    "paths = glob.glob(path + 'star_selection-*-38.fits')\n"
   ]
  },
  {
   "cell_type": "code",
   "execution_count": 4,
   "metadata": {},
   "outputs": [],
   "source": [
    "# Create the new folder\n",
    "save_path = os.getcwd() + '/CFIS_CCDn_' + str(CCDn) + '/'\n",
    "\n",
    "try:\n",
    "    # If the directory already exists, don't copy\n",
    "    os.mkdir('CFIS_CCDn_' + str(CCDn))\n",
    "    \n",
    "    # Move all the files to the new folder\n",
    "    for it in range(len(paths)):\n",
    "        shutil.copy(paths[it], save_path)\n",
    "except:\n",
    "    a=1\n",
    "    \n"
   ]
  },
  {
   "cell_type": "markdown",
   "metadata": {},
   "source": [
    "## Useful functions"
   ]
  },
  {
   "cell_type": "code",
   "execution_count": 51,
   "metadata": {},
   "outputs": [],
   "source": [
    "# Define fits saving function\n",
    "\n",
    "def save_fits(vignet, xwin, ywin, CCDn, save_path, example_fits_path):\n",
    "    # Save data into the FITS format extension\n",
    "    data = {'VIGNET': vignet, 'XWIN_IMAGE': xwin, 'YWIN_IMAGE': ywin}\n",
    "    \n",
    "    fits_file = file_io.FITSCatalog(save_path,\\\n",
    "        open_mode = file_io.BaseCatalog.OpenMode.ReadWrite, SEx_catalog=True)\n",
    "    fits_file.save_as_fits(data, \\\n",
    "        sex_cat_path = example_fits_path)"
   ]
  },
  {
   "cell_type": "markdown",
   "metadata": {},
   "source": [
    "## Generate a train and a test set"
   ]
  },
  {
   "cell_type": "code",
   "execution_count": 52,
   "metadata": {},
   "outputs": [],
   "source": [
    "# Parameters\n",
    "train_per = 0.8\n",
    "CCDn = 38"
   ]
  },
  {
   "cell_type": "code",
   "execution_count": 53,
   "metadata": {},
   "outputs": [],
   "source": [
    "# Create the new folders\n",
    "train_folder = 'CFIS_CCDn_' + str(CCDn) + '-train'\n",
    "test_folder = 'CFIS_CCDn_' + str(CCDn) + '-test'\n",
    "save_path_train = os.getcwd() + '/' +  train_folder + '/'\n",
    "save_path_test = os.getcwd() + '/' +  test_folder + '/'\n",
    "\n",
    "try:\n",
    "    # If the directory already exists, don't copy\n",
    "    os.mkdir(train_folder)\n",
    "    os.mkdir(test_folder)\n",
    "\n",
    "except:\n",
    "    a=1"
   ]
  },
  {
   "cell_type": "code",
   "execution_count": 54,
   "metadata": {},
   "outputs": [],
   "source": [
    "for it in range(len(paths)):\n",
    "\n",
    "    # Open file\n",
    "    fits_file = fits.open(paths[it])\n",
    "    starcat = fits_file[2].data\n",
    "\n",
    "    # Calculate subsets ids\n",
    "    star_nb = starcat['VIGNET'].shape[0]\n",
    "    train_star_nb = np.floor(train_per*star_nb).astype(int)\n",
    "    test_star_nb = star_nb - train_star_nb\n",
    "    \n",
    "    rand_seq = np.random.randn(star_nb).argsort()\n",
    "    train_ids = rand_seq[0:train_star_nb]\n",
    "    test_ids = rand_seq[train_star_nb:]\n",
    "    \n",
    "    # Training subset\n",
    "    my_vignet = starcat['VIGNET'][train_ids,:,:]\n",
    "    my_xwin = starcat['XWIN_IMAGE'][train_ids]\n",
    "    my_ywin = starcat['YWIN_IMAGE'][train_ids]\n",
    "    \n",
    "    # Prepare paths and save\n",
    "    example_fits_path = paths[it]\n",
    "    save_path = save_path_train + paths[it].split(\"/\")[-1]\n",
    "    save_fits(my_vignet, my_xwin, my_ywin, CCDn, save_path, example_fits_path)\n",
    "    \n",
    "    \n",
    "    # Testing subset\n",
    "    my_vignet = starcat['VIGNET'][test_ids,:,:]\n",
    "    my_xwin = starcat['XWIN_IMAGE'][test_ids]\n",
    "    my_ywin = starcat['YWIN_IMAGE'][test_ids]\n",
    "    \n",
    "    # Prepare paths and save\n",
    "    example_fits_path = paths[it]\n",
    "    save_path = save_path_test + paths[it].split(\"/\")[-1]\n",
    "    save_fits(my_vignet, my_xwin, my_ywin, CCDn, save_path, example_fits_path)"
   ]
  },
  {
   "cell_type": "code",
   "execution_count": null,
   "metadata": {},
   "outputs": [],
   "source": []
  },
  {
   "cell_type": "code",
   "execution_count": null,
   "metadata": {},
   "outputs": [],
   "source": []
  },
  {
   "cell_type": "code",
   "execution_count": null,
   "metadata": {},
   "outputs": [],
   "source": []
  },
  {
   "cell_type": "code",
   "execution_count": null,
   "metadata": {},
   "outputs": [],
   "source": []
  },
  {
   "cell_type": "code",
   "execution_count": null,
   "metadata": {},
   "outputs": [],
   "source": []
  },
  {
   "cell_type": "code",
   "execution_count": null,
   "metadata": {},
   "outputs": [],
   "source": []
  },
  {
   "cell_type": "code",
   "execution_count": null,
   "metadata": {},
   "outputs": [],
   "source": []
  },
  {
   "cell_type": "code",
   "execution_count": null,
   "metadata": {},
   "outputs": [],
   "source": []
  }
 ],
 "metadata": {
  "kernelspec": {
   "display_name": "Python 3",
   "language": "python",
   "name": "python3"
  },
  "language_info": {
   "codemirror_mode": {
    "name": "ipython",
    "version": 3
   },
   "file_extension": ".py",
   "mimetype": "text/x-python",
   "name": "python",
   "nbconvert_exporter": "python",
   "pygments_lexer": "ipython3",
   "version": "3.7.4"
  }
 },
 "nbformat": 4,
 "nbformat_minor": 2
}
